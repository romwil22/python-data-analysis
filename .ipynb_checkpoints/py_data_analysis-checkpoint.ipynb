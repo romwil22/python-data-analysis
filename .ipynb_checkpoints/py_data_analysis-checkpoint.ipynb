{
 "cells": [
  {
   "cell_type": "markdown",
   "id": "3cb57340-8094-4478-b1ca-8e9f9b772029",
   "metadata": {},
   "source": [
    "# Python Data Analysis (Numpy, Pandas, Matplotlib, seaborn)"
   ]
  },
  {
   "cell_type": "markdown",
   "id": "5da26d50-d5f9-4440-acac-f8a420a3a0f4",
   "metadata": {},
   "source": [
    "## NumPy Library"
   ]
  },
  {
   "cell_type": "markdown",
   "id": "61e3200f-6a3f-455f-83ed-4c8fc1a35f47",
   "metadata": {},
   "source": [
    "### numpy array"
   ]
  },
  {
   "cell_type": "code",
   "execution_count": 1,
   "id": "bff3d8ce-5bbc-43cf-acda-4a6dc63396d5",
   "metadata": {},
   "outputs": [],
   "source": [
    "import numpy as np"
   ]
  },
  {
   "cell_type": "code",
   "execution_count": 2,
   "id": "9f5f467d-8cf2-410b-9037-3e9dfae3f812",
   "metadata": {},
   "outputs": [
    {
     "data": {
      "text/plain": [
       "array([1, 2, 3, 4, 5])"
      ]
     },
     "execution_count": 2,
     "metadata": {},
     "output_type": "execute_result"
    }
   ],
   "source": [
    "np.array([1,2,3,4,5])"
   ]
  },
  {
   "cell_type": "code",
   "execution_count": 3,
   "id": "3ee663b8-a108-4438-83ab-182d8e2c7dab",
   "metadata": {},
   "outputs": [
    {
     "data": {
      "text/plain": [
       "array([2, 4, 6, 8])"
      ]
     },
     "execution_count": 3,
     "metadata": {},
     "output_type": "execute_result"
    }
   ],
   "source": [
    "numArray = np.array([2,4,6,8]) # place in variable\n",
    "numArray"
   ]
  },
  {
   "cell_type": "code",
   "execution_count": 4,
   "id": "1ef9ee8b",
   "metadata": {},
   "outputs": [
    {
     "data": {
      "text/plain": [
       "array([2.3, 3.2, 4.6, 7.2])"
      ]
     },
     "execution_count": 4,
     "metadata": {},
     "output_type": "execute_result"
    }
   ],
   "source": [
    "floatArray = np.array([2.3,3.2,4.6,7.2])\n",
    "floatArray"
   ]
  },
  {
   "cell_type": "markdown",
   "id": "48623b12",
   "metadata": {},
   "source": [
    "### array indexing"
   ]
  },
  {
   "cell_type": "code",
   "execution_count": 5,
   "id": "c1aaa72e",
   "metadata": {},
   "outputs": [
    {
     "data": {
      "text/plain": [
       "8"
      ]
     },
     "execution_count": 5,
     "metadata": {},
     "output_type": "execute_result"
    }
   ],
   "source": [
    "numArray[3]"
   ]
  },
  {
   "cell_type": "code",
   "execution_count": 6,
   "id": "dfda4466",
   "metadata": {},
   "outputs": [
    {
     "data": {
      "text/plain": [
       "8"
      ]
     },
     "execution_count": 6,
     "metadata": {},
     "output_type": "execute_result"
    }
   ],
   "source": [
    "numArray[-1] # reverse index"
   ]
  },
  {
   "cell_type": "code",
   "execution_count": 7,
   "id": "f4f1d0a0",
   "metadata": {},
   "outputs": [
    {
     "data": {
      "text/plain": [
       "array([6, 8])"
      ]
     },
     "execution_count": 7,
     "metadata": {},
     "output_type": "execute_result"
    }
   ],
   "source": [
    "numArray[2:]"
   ]
  },
  {
   "cell_type": "code",
   "execution_count": 8,
   "id": "81402e95",
   "metadata": {},
   "outputs": [
    {
     "data": {
      "text/plain": [
       "array([2, 6])"
      ]
     },
     "execution_count": 8,
     "metadata": {},
     "output_type": "execute_result"
    }
   ],
   "source": [
    "numArray[0::2] # [start:end:step]"
   ]
  },
  {
   "cell_type": "code",
   "execution_count": 9,
   "id": "0f8285ae",
   "metadata": {},
   "outputs": [
    {
     "data": {
      "text/plain": [
       "(4, 6)"
      ]
     },
     "execution_count": 9,
     "metadata": {},
     "output_type": "execute_result"
    }
   ],
   "source": [
    "numArray[1], numArray[2] # multiple index"
   ]
  },
  {
   "cell_type": "markdown",
   "id": "fd797989",
   "metadata": {},
   "source": [
    "### array data type"
   ]
  },
  {
   "cell_type": "code",
   "execution_count": 10,
   "id": "032ce222",
   "metadata": {},
   "outputs": [
    {
     "data": {
      "text/plain": [
       "dtype('int32')"
      ]
     },
     "execution_count": 10,
     "metadata": {},
     "output_type": "execute_result"
    }
   ],
   "source": [
    "numArray.dtype"
   ]
  },
  {
   "cell_type": "code",
   "execution_count": 11,
   "id": "f1bbb6a9",
   "metadata": {},
   "outputs": [
    {
     "data": {
      "text/plain": [
       "dtype('float64')"
      ]
     },
     "execution_count": 11,
     "metadata": {},
     "output_type": "execute_result"
    }
   ],
   "source": [
    "floatArray.dtype"
   ]
  },
  {
   "cell_type": "code",
   "execution_count": 14,
   "id": "1de4fbd3",
   "metadata": {},
   "outputs": [
    {
     "data": {
      "text/plain": [
       "array([1, 2, 3, 4, 5], dtype=int16)"
      ]
     },
     "execution_count": 14,
     "metadata": {},
     "output_type": "execute_result"
    }
   ],
   "source": [
    "np.array([1,2,3,4,5], dtype=np.int16) # declaring data type in parameter"
   ]
  },
  {
   "cell_type": "code",
   "execution_count": 17,
   "id": "634c8f3d",
   "metadata": {},
   "outputs": [
    {
     "data": {
      "text/plain": [
       "array([2.3, 3.2, 4.6, 7.2])"
      ]
     },
     "execution_count": 17,
     "metadata": {},
     "output_type": "execute_result"
    }
   ],
   "source": [
    "np.array([2.3,3.2,4.6,7.2], dtype=float)"
   ]
  },
  {
   "cell_type": "markdown",
   "id": "1582d0f8",
   "metadata": {},
   "source": [
    "### dimension & shape"
   ]
  },
  {
   "cell_type": "code",
   "execution_count": 19,
   "id": "0fc5adf7",
   "metadata": {},
   "outputs": [
    {
     "data": {
      "text/plain": [
       "array([[3, 2, 1],\n",
       "       [4, 5, 6]])"
      ]
     },
     "execution_count": 19,
     "metadata": {},
     "output_type": "execute_result"
    }
   ],
   "source": [
    "# 2d array\n",
    "twoDim = np.array([\n",
    "    [3,2,1],\n",
    "    [4,5,6]\n",
    "])\n",
    "\n",
    "twoDim"
   ]
  },
  {
   "cell_type": "code",
   "execution_count": 20,
   "id": "e0951bab",
   "metadata": {},
   "outputs": [
    {
     "data": {
      "text/plain": [
       "(2, 3)"
      ]
     },
     "execution_count": 20,
     "metadata": {},
     "output_type": "execute_result"
    }
   ],
   "source": [
    "twoDim.shape # (rows, columns)"
   ]
  },
  {
   "cell_type": "code",
   "execution_count": 21,
   "id": "7a0af07c",
   "metadata": {},
   "outputs": [
    {
     "data": {
      "text/plain": [
       "2"
      ]
     },
     "execution_count": 21,
     "metadata": {},
     "output_type": "execute_result"
    }
   ],
   "source": [
    "twoDim.ndim # array dimension"
   ]
  },
  {
   "cell_type": "code",
   "execution_count": 22,
   "id": "167e3a3b",
   "metadata": {},
   "outputs": [
    {
     "data": {
      "text/plain": [
       "6"
      ]
     },
     "execution_count": 22,
     "metadata": {},
     "output_type": "execute_result"
    }
   ],
   "source": [
    "twoDim.size # element size"
   ]
  },
  {
   "cell_type": "code",
   "execution_count": 23,
   "id": "e0f9b87d",
   "metadata": {},
   "outputs": [
    {
     "data": {
      "text/plain": [
       "array([[[ 11,  22,  33],\n",
       "        [ 10,  20,  30]],\n",
       "\n",
       "       [[ 40,  50,  60],\n",
       "        [300, 200, 100]]])"
      ]
     },
     "execution_count": 23,
     "metadata": {},
     "output_type": "execute_result"
    }
   ],
   "source": [
    "# 3d array\n",
    "threeDim = np.array([\n",
    "    [\n",
    "        [11,22,33],\n",
    "        [10,20,30]\n",
    "    ],\n",
    "    [\n",
    "        [40,50,60],\n",
    "        [300,200,100]\n",
    "    ]\n",
    "])\n",
    "\n",
    "threeDim"
   ]
  },
  {
   "cell_type": "code",
   "execution_count": 28,
   "id": "55045791",
   "metadata": {},
   "outputs": [
    {
     "data": {
      "text/plain": [
       "dtype('int32')"
      ]
     },
     "execution_count": 28,
     "metadata": {},
     "output_type": "execute_result"
    }
   ],
   "source": [
    "threeDim.dtype"
   ]
  },
  {
   "cell_type": "code",
   "execution_count": 24,
   "id": "24ac0aea",
   "metadata": {},
   "outputs": [
    {
     "data": {
      "text/plain": [
       "(2, 2, 3)"
      ]
     },
     "execution_count": 24,
     "metadata": {},
     "output_type": "execute_result"
    }
   ],
   "source": [
    "threeDim.shape"
   ]
  },
  {
   "cell_type": "code",
   "execution_count": 26,
   "id": "c0bd81c2",
   "metadata": {},
   "outputs": [
    {
     "data": {
      "text/plain": [
       "3"
      ]
     },
     "execution_count": 26,
     "metadata": {},
     "output_type": "execute_result"
    }
   ],
   "source": [
    "threeDim.ndim"
   ]
  },
  {
   "cell_type": "code",
   "execution_count": 27,
   "id": "6cd49d53",
   "metadata": {},
   "outputs": [
    {
     "data": {
      "text/plain": [
       "12"
      ]
     },
     "execution_count": 27,
     "metadata": {},
     "output_type": "execute_result"
    }
   ],
   "source": [
    "threeDim.size"
   ]
  },
  {
   "cell_type": "markdown",
   "id": "6392266f",
   "metadata": {},
   "source": [
    "### indexing and slicing matrices"
   ]
  },
  {
   "cell_type": "code",
   "execution_count": null,
   "id": "e1f76880",
   "metadata": {},
   "outputs": [],
   "source": [
    "matrix2D = np.array([\n",
    "    [1,2,3],\n",
    "    [10,20,30],\n",
    "    [8,9,10]\n",
    "])"
   ]
  }
 ],
 "metadata": {
  "kernelspec": {
   "display_name": "Python 3 (ipykernel)",
   "language": "python",
   "name": "python3"
  },
  "language_info": {
   "codemirror_mode": {
    "name": "ipython",
    "version": 3
   },
   "file_extension": ".py",
   "mimetype": "text/x-python",
   "name": "python",
   "nbconvert_exporter": "python",
   "pygments_lexer": "ipython3",
   "version": "3.10.4"
  }
 },
 "nbformat": 4,
 "nbformat_minor": 5
}
