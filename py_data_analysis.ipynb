{
 "cells": [
  {
   "cell_type": "markdown",
   "id": "3cb57340-8094-4478-b1ca-8e9f9b772029",
   "metadata": {},
   "source": [
    "# Python Data Analysis (Numpy, Pandas, Matplotlib, seaborn)"
   ]
  },
  {
   "cell_type": "markdown",
   "id": "5da26d50-d5f9-4440-acac-f8a420a3a0f4",
   "metadata": {},
   "source": [
    "## NumPy Library"
   ]
  },
  {
   "cell_type": "markdown",
   "id": "61e3200f-6a3f-455f-83ed-4c8fc1a35f47",
   "metadata": {},
   "source": [
    "### numpy array"
   ]
  },
  {
   "cell_type": "code",
   "execution_count": 1,
   "id": "bff3d8ce-5bbc-43cf-acda-4a6dc63396d5",
   "metadata": {},
   "outputs": [],
   "source": [
    "import numpy as np"
   ]
  },
  {
   "cell_type": "code",
   "execution_count": 2,
   "id": "9f5f467d-8cf2-410b-9037-3e9dfae3f812",
   "metadata": {},
   "outputs": [
    {
     "data": {
      "text/plain": [
       "array([1, 2, 3, 4, 5])"
      ]
     },
     "execution_count": 2,
     "metadata": {},
     "output_type": "execute_result"
    }
   ],
   "source": [
    "np.array([1,2,3,4,5])"
   ]
  },
  {
   "cell_type": "code",
   "execution_count": 3,
   "id": "3ee663b8-a108-4438-83ab-182d8e2c7dab",
   "metadata": {},
   "outputs": [
    {
     "data": {
      "text/plain": [
       "array([2, 4, 6, 8])"
      ]
     },
     "execution_count": 3,
     "metadata": {},
     "output_type": "execute_result"
    }
   ],
   "source": [
    "numArray = np.array([2,4,6,8]) # place in variable\n",
    "numArray"
   ]
  },
  {
   "cell_type": "code",
   "execution_count": 4,
   "id": "c9ea9273",
   "metadata": {},
   "outputs": [
    {
     "data": {
      "text/plain": [
       "array([2.3, 3.2, 4.6, 7.2])"
      ]
     },
     "execution_count": 4,
     "metadata": {},
     "output_type": "execute_result"
    }
   ],
   "source": [
    "floatArray = np.array([2.3,3.2,4.6,7.2])\n",
    "floatArray"
   ]
  },
  {
   "cell_type": "markdown",
   "id": "87911ec0",
   "metadata": {},
   "source": [
    "### array indexing"
   ]
  },
  {
   "cell_type": "code",
   "execution_count": 5,
   "id": "f2350759",
   "metadata": {},
   "outputs": [
    {
     "data": {
      "text/plain": [
       "8"
      ]
     },
     "execution_count": 5,
     "metadata": {},
     "output_type": "execute_result"
    }
   ],
   "source": [
    "numArray[3]"
   ]
  },
  {
   "cell_type": "code",
   "execution_count": 6,
   "id": "ca15a9d7",
   "metadata": {},
   "outputs": [
    {
     "data": {
      "text/plain": [
       "8"
      ]
     },
     "execution_count": 6,
     "metadata": {},
     "output_type": "execute_result"
    }
   ],
   "source": [
    "numArray[-1] # reverse index"
   ]
  },
  {
   "cell_type": "code",
   "execution_count": 7,
   "id": "753ec4fa",
   "metadata": {},
   "outputs": [
    {
     "data": {
      "text/plain": [
       "array([6, 8])"
      ]
     },
     "execution_count": 7,
     "metadata": {},
     "output_type": "execute_result"
    }
   ],
   "source": [
    "numArray[2:]"
   ]
  },
  {
   "cell_type": "code",
   "execution_count": 8,
   "id": "556f4e67",
   "metadata": {},
   "outputs": [
    {
     "data": {
      "text/plain": [
       "array([2, 6])"
      ]
     },
     "execution_count": 8,
     "metadata": {},
     "output_type": "execute_result"
    }
   ],
   "source": [
    "numArray[0::2] # [start:end:step]"
   ]
  },
  {
   "cell_type": "code",
   "execution_count": 9,
   "id": "f37a64f3",
   "metadata": {},
   "outputs": [
    {
     "data": {
      "text/plain": [
       "(4, 6)"
      ]
     },
     "execution_count": 9,
     "metadata": {},
     "output_type": "execute_result"
    }
   ],
   "source": [
    "numArray[1], numArray[2] # multiple index"
   ]
  },
  {
   "cell_type": "markdown",
   "id": "07d9bb19",
   "metadata": {},
   "source": [
    "### array data type"
   ]
  },
  {
   "cell_type": "code",
   "execution_count": 10,
   "id": "396d2ff0",
   "metadata": {},
   "outputs": [
    {
     "data": {
      "text/plain": [
       "dtype('int32')"
      ]
     },
     "execution_count": 10,
     "metadata": {},
     "output_type": "execute_result"
    }
   ],
   "source": [
    "numArray.dtype"
   ]
  },
  {
   "cell_type": "code",
   "execution_count": 11,
   "id": "626c58fb",
   "metadata": {},
   "outputs": [
    {
     "data": {
      "text/plain": [
       "dtype('float64')"
      ]
     },
     "execution_count": 11,
     "metadata": {},
     "output_type": "execute_result"
    }
   ],
   "source": [
    "floatArray.dtype"
   ]
  },
  {
   "cell_type": "code",
   "execution_count": 14,
   "id": "dbca9e64",
   "metadata": {},
   "outputs": [
    {
     "data": {
      "text/plain": [
       "array([1, 2, 3, 4, 5], dtype=int16)"
      ]
     },
     "execution_count": 14,
     "metadata": {},
     "output_type": "execute_result"
    }
   ],
   "source": [
    "np.array([1,2,3,4,5], dtype=np.int16) # declaring data type in parameter"
   ]
  },
  {
   "cell_type": "code",
   "execution_count": 17,
   "id": "b53fba68",
   "metadata": {},
   "outputs": [
    {
     "data": {
      "text/plain": [
       "array([2.3, 3.2, 4.6, 7.2])"
      ]
     },
     "execution_count": 17,
     "metadata": {},
     "output_type": "execute_result"
    }
   ],
   "source": [
    "np.array([2.3,3.2,4.6,7.2], dtype=float)"
   ]
  },
  {
   "cell_type": "markdown",
   "id": "d037a37f",
   "metadata": {},
   "source": [
    "### dimension & shape"
   ]
  },
  {
   "cell_type": "code",
   "execution_count": 19,
   "id": "b08c544f",
   "metadata": {},
   "outputs": [
    {
     "data": {
      "text/plain": [
       "array([[3, 2, 1],\n",
       "       [4, 5, 6]])"
      ]
     },
     "execution_count": 19,
     "metadata": {},
     "output_type": "execute_result"
    }
   ],
   "source": [
    "# 2d array\n",
    "twoDim = np.array([\n",
    "    [3,2,1],\n",
    "    [4,5,6]\n",
    "])\n",
    "\n",
    "twoDim"
   ]
  },
  {
   "cell_type": "code",
   "execution_count": 20,
   "id": "56d62396",
   "metadata": {},
   "outputs": [
    {
     "data": {
      "text/plain": [
       "(2, 3)"
      ]
     },
     "execution_count": 20,
     "metadata": {},
     "output_type": "execute_result"
    }
   ],
   "source": [
    "twoDim.shape # (rows, columns)"
   ]
  },
  {
   "cell_type": "code",
   "execution_count": 21,
   "id": "927e43ae",
   "metadata": {},
   "outputs": [
    {
     "data": {
      "text/plain": [
       "2"
      ]
     },
     "execution_count": 21,
     "metadata": {},
     "output_type": "execute_result"
    }
   ],
   "source": [
    "twoDim.ndim # array dimension"
   ]
  },
  {
   "cell_type": "code",
   "execution_count": 22,
   "id": "6798e83f",
   "metadata": {},
   "outputs": [
    {
     "data": {
      "text/plain": [
       "6"
      ]
     },
     "execution_count": 22,
     "metadata": {},
     "output_type": "execute_result"
    }
   ],
   "source": [
    "twoDim.size # element size"
   ]
  },
  {
   "cell_type": "code",
   "execution_count": 23,
   "id": "a071d9b5",
   "metadata": {},
   "outputs": [
    {
     "data": {
      "text/plain": [
       "array([[[ 11,  22,  33],\n",
       "        [ 10,  20,  30]],\n",
       "\n",
       "       [[ 40,  50,  60],\n",
       "        [300, 200, 100]]])"
      ]
     },
     "execution_count": 23,
     "metadata": {},
     "output_type": "execute_result"
    }
   ],
   "source": [
    "# 3d array\n",
    "threeDim = np.array([\n",
    "    [\n",
    "        [11,22,33],\n",
    "        [10,20,30]\n",
    "    ],\n",
    "    [\n",
    "        [40,50,60],\n",
    "        [300,200,100]\n",
    "    ]\n",
    "])\n",
    "\n",
    "threeDim"
   ]
  },
  {
   "cell_type": "code",
   "execution_count": 28,
   "id": "b229be5c",
   "metadata": {},
   "outputs": [
    {
     "data": {
      "text/plain": [
       "dtype('int32')"
      ]
     },
     "execution_count": 28,
     "metadata": {},
     "output_type": "execute_result"
    }
   ],
   "source": [
    "threeDim.dtype"
   ]
  },
  {
   "cell_type": "code",
   "execution_count": 24,
   "id": "02716e5d",
   "metadata": {},
   "outputs": [
    {
     "data": {
      "text/plain": [
       "(2, 2, 3)"
      ]
     },
     "execution_count": 24,
     "metadata": {},
     "output_type": "execute_result"
    }
   ],
   "source": [
    "threeDim.shape"
   ]
  },
  {
   "cell_type": "code",
   "execution_count": 26,
   "id": "19d7a488",
   "metadata": {},
   "outputs": [
    {
     "data": {
      "text/plain": [
       "3"
      ]
     },
     "execution_count": 26,
     "metadata": {},
     "output_type": "execute_result"
    }
   ],
   "source": [
    "threeDim.ndim"
   ]
  },
  {
   "cell_type": "code",
   "execution_count": 27,
   "id": "1a87ea9a",
   "metadata": {},
   "outputs": [
    {
     "data": {
      "text/plain": [
       "12"
      ]
     },
     "execution_count": 27,
     "metadata": {},
     "output_type": "execute_result"
    }
   ],
   "source": [
    "threeDim.size"
   ]
  },
  {
   "cell_type": "markdown",
   "id": "103851b8",
   "metadata": {},
   "source": [
    "### indexing and slicing matrices"
   ]
  },
  {
   "cell_type": "code",
   "execution_count": 29,
   "id": "d3e0c579",
   "metadata": {},
   "outputs": [
    {
     "data": {
      "text/plain": [
       "array([[ 1,  2,  3],\n",
       "       [10, 20, 30],\n",
       "       [ 8,  9, 10]])"
      ]
     },
     "execution_count": 29,
     "metadata": {},
     "output_type": "execute_result"
    }
   ],
   "source": [
    "# 3x3 matrix\n",
    "matrix2D = np.array([\n",
    "    [1,2,3],\n",
    "    [10,20,30],\n",
    "    [8,9,10]\n",
    "])\n",
    "\n",
    "matrix2D"
   ]
  },
  {
   "cell_type": "code",
   "execution_count": 30,
   "id": "28d7d7c5",
   "metadata": {},
   "outputs": [
    {
     "data": {
      "text/plain": [
       "array([10, 20, 30])"
      ]
     },
     "execution_count": 30,
     "metadata": {},
     "output_type": "execute_result"
    }
   ],
   "source": [
    "matrix2D[1] # access rows"
   ]
  },
  {
   "cell_type": "code",
   "execution_count": 31,
   "id": "1c403a63",
   "metadata": {},
   "outputs": [
    {
     "data": {
      "text/plain": [
       "3"
      ]
     },
     "execution_count": 31,
     "metadata": {},
     "output_type": "execute_result"
    }
   ],
   "source": [
    "matrix2D[0][2] # access intersection of row and column"
   ]
  },
  {
   "cell_type": "code",
   "execution_count": 32,
   "id": "28f6b6b8",
   "metadata": {},
   "outputs": [
    {
     "data": {
      "text/plain": [
       "9"
      ]
     },
     "execution_count": 32,
     "metadata": {},
     "output_type": "execute_result"
    }
   ],
   "source": [
    "matrix2D[2, 1] # access multiple dimension [rows, columns]"
   ]
  },
  {
   "cell_type": "code",
   "execution_count": 34,
   "id": "2747919b",
   "metadata": {},
   "outputs": [
    {
     "data": {
      "text/plain": [
       "array([[20, 30],\n",
       "       [ 9, 10]])"
      ]
     },
     "execution_count": 34,
     "metadata": {},
     "output_type": "execute_result"
    }
   ],
   "source": [
    "matrix2D[1:, 1:]"
   ]
  },
  {
   "cell_type": "code",
   "execution_count": 36,
   "id": "c4f803fc",
   "metadata": {},
   "outputs": [
    {
     "data": {
      "text/plain": [
       "array([[11, 22, 33],\n",
       "       [10, 20, 30],\n",
       "       [ 8,  9, 10]])"
      ]
     },
     "execution_count": 36,
     "metadata": {},
     "output_type": "execute_result"
    }
   ],
   "source": [
    "\n",
    "matrix2D[0] = np.array([11,22,33])\n",
    "matrix2D"
   ]
  },
  {
   "cell_type": "code",
   "execution_count": null,
   "id": "1031361f",
   "metadata": {},
   "outputs": [],
   "source": []
  }
 ],
 "metadata": {
  "kernelspec": {
   "display_name": "Python 3 (ipykernel)",
   "language": "python",
   "name": "python3"
  },
  "language_info": {
   "codemirror_mode": {
    "name": "ipython",
    "version": 3
   },
   "file_extension": ".py",
   "mimetype": "text/x-python",
   "name": "python",
   "nbconvert_exporter": "python",
   "pygments_lexer": "ipython3",
   "version": "3.10.4"
  }
 },
 "nbformat": 4,
 "nbformat_minor": 5
}
